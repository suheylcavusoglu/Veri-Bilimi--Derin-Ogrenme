{
 "cells": [
  {
   "attachments": {},
   "cell_type": "markdown",
   "metadata": {},
   "source": [
    "YAPAY SİNİR AĞLARI (ANN) İLE RAKAM TANIMA\n",
    "\n",
    "1) İş Problemi (Business Problem)  ==> El yazısı tanıma\n",
    "\n",
    "2) Veriyi Anlamak (Data Understanding)\n",
    "\n",
    "3) Veriyi Hazırlamak (Data Preparation)\n",
    "\n",
    "4) Modelleme (Modeling)\n",
    "\n",
    "5) Değerlendirme (Evaluation)"
   ]
  },
  {
   "attachments": {},
   "cell_type": "markdown",
   "metadata": {},
   "source": [
    "# 1) İş Problemi (Business Problem)\n",
    "\n",
    "Problem: İnsan gücü kaynağını daha verimli kullanabilir miyiz?\n",
    "\n",
    "MNIST (\"Modified Nationaş Institute of Standards and Technology\")\n",
    "\n",
    "<img src=\"https://storage.googleapis.come/khanlvg-public.appspot.com/digit-classifier/mnist.png\" />\n",
    "\n",
    "Veri seti hakkında daha fazla bilgi için: http://yann.lecun.com/exdb/mnist/index.html adresini ziyaret edebilirsiniz"
   ]
  },
  {
   "cell_type": "code",
   "execution_count": 1,
   "metadata": {},
   "outputs": [
    {
     "name": "stdout",
     "output_type": "stream",
     "text": [
      "Collecting tensorflow\n",
      "  Downloading tensorflow-2.11.0-cp39-cp39-win_amd64.whl (1.9 kB)\n",
      "Collecting tensorflow-intel==2.11.0\n",
      "  Downloading tensorflow_intel-2.11.0-cp39-cp39-win_amd64.whl (266.3 MB)\n",
      "     -------------------------------------- 266.3/266.3 MB 1.8 MB/s eta 0:00:00\n",
      "Collecting tensorflow-estimator<2.12,>=2.11.0\n",
      "  Downloading tensorflow_estimator-2.11.0-py2.py3-none-any.whl (439 kB)\n",
      "     -------------------------------------- 439.2/439.2 kB 1.6 MB/s eta 0:00:00\n",
      "Collecting tensorboard<2.12,>=2.11\n",
      "  Downloading tensorboard-2.11.2-py3-none-any.whl (6.0 MB)\n",
      "     ---------------------------------------- 6.0/6.0 MB 1.8 MB/s eta 0:00:00\n",
      "Collecting absl-py>=1.0.0\n",
      "  Downloading absl_py-1.4.0-py3-none-any.whl (126 kB)\n",
      "     -------------------------------------- 126.5/126.5 kB 2.5 MB/s eta 0:00:00\n"
     ]
    },
    {
     "name": "stderr",
     "output_type": "stream",
     "text": [
      "\n",
      "[notice] A new release of pip available: 22.3 -> 23.0\n",
      "[notice] To update, run: python.exe -m pip install --upgrade pip\n"
     ]
    },
    {
     "name": "stdout",
     "output_type": "stream",
     "text": [
      "Collecting flatbuffers>=2.0\n",
      "  Downloading flatbuffers-23.1.21-py2.py3-none-any.whl (26 kB)\n",
      "Collecting astunparse>=1.6.0\n",
      "  Using cached astunparse-1.6.3-py2.py3-none-any.whl (12 kB)\n",
      "Collecting google-pasta>=0.1.1\n",
      "  Using cached google_pasta-0.2.0-py3-none-any.whl (57 kB)\n",
      "Collecting gast<=0.4.0,>=0.2.1\n",
      "  Downloading gast-0.4.0-py3-none-any.whl (9.8 kB)\n",
      "Collecting keras<2.12,>=2.11.0\n",
      "  Downloading keras-2.11.0-py2.py3-none-any.whl (1.7 MB)\n",
      "     ---------------------------------------- 1.7/1.7 MB 2.2 MB/s eta 0:00:00\n",
      "Collecting h5py>=2.9.0\n",
      "  Downloading h5py-3.8.0-cp39-cp39-win_amd64.whl (2.6 MB)\n",
      "     ---------------------------------------- 2.6/2.6 MB 1.9 MB/s eta 0:00:00\n",
      "Requirement already satisfied: typing-extensions>=3.6.6 in c:\\users\\suheyl\\appdata\\local\\programs\\python\\python39\\lib\\site-packages (from tensorflow-intel==2.11.0->tensorflow) (4.3.0)\n",
      "Collecting grpcio<2.0,>=1.24.3\n",
      "  Downloading grpcio-1.51.1-cp39-cp39-win_amd64.whl (3.7 MB)\n",
      "     ---------------------------------------- 3.7/3.7 MB 1.5 MB/s eta 0:00:00\n",
      "Collecting tensorflow-io-gcs-filesystem>=0.23.1\n",
      "  Downloading tensorflow_io_gcs_filesystem-0.30.0-cp39-cp39-win_amd64.whl (1.5 MB)\n",
      "     ---------------------------------------- 1.5/1.5 MB 1.7 MB/s eta 0:00:00\n",
      "Collecting libclang>=13.0.0\n",
      "  Downloading libclang-15.0.6.1-py2.py3-none-win_amd64.whl (23.2 MB)\n",
      "     ---------------------------------------- 23.2/23.2 MB 1.6 MB/s eta 0:00:00\n",
      "Requirement already satisfied: wrapt>=1.11.0 in c:\\users\\suheyl\\appdata\\local\\programs\\python\\python39\\lib\\site-packages (from tensorflow-intel==2.11.0->tensorflow) (1.14.1)\n",
      "Requirement already satisfied: setuptools in c:\\users\\suheyl\\appdata\\local\\programs\\python\\python39\\lib\\site-packages (from tensorflow-intel==2.11.0->tensorflow) (49.2.1)\n",
      "Collecting opt-einsum>=2.3.2\n",
      "  Using cached opt_einsum-3.3.0-py3-none-any.whl (65 kB)\n",
      "Collecting protobuf<3.20,>=3.9.2\n",
      "  Downloading protobuf-3.19.6-cp39-cp39-win_amd64.whl (895 kB)\n",
      "     -------------------------------------- 895.9/895.9 kB 1.7 MB/s eta 0:00:00\n",
      "Requirement already satisfied: numpy>=1.20 in c:\\users\\suheyl\\appdata\\local\\programs\\python\\python39\\lib\\site-packages (from tensorflow-intel==2.11.0->tensorflow) (1.21.2)\n",
      "Requirement already satisfied: packaging in c:\\users\\suheyl\\appdata\\local\\programs\\python\\python39\\lib\\site-packages (from tensorflow-intel==2.11.0->tensorflow) (21.3)\n",
      "Requirement already satisfied: six>=1.12.0 in c:\\users\\suheyl\\appdata\\local\\programs\\python\\python39\\lib\\site-packages (from tensorflow-intel==2.11.0->tensorflow) (1.16.0)\n",
      "Collecting termcolor>=1.1.0\n",
      "  Downloading termcolor-2.2.0-py3-none-any.whl (6.6 kB)\n",
      "Requirement already satisfied: wheel<1.0,>=0.23.0 in c:\\users\\suheyl\\appdata\\local\\programs\\python\\python39\\lib\\site-packages (from astunparse>=1.6.0->tensorflow-intel==2.11.0->tensorflow) (0.37.1)\n",
      "Collecting werkzeug>=1.0.1\n",
      "  Using cached Werkzeug-2.2.2-py3-none-any.whl (232 kB)\n",
      "Collecting google-auth-oauthlib<0.5,>=0.4.1\n",
      "  Using cached google_auth_oauthlib-0.4.6-py2.py3-none-any.whl (18 kB)\n",
      "Requirement already satisfied: markdown>=2.6.8 in c:\\users\\suheyl\\appdata\\local\\programs\\python\\python39\\lib\\site-packages (from tensorboard<2.12,>=2.11->tensorflow-intel==2.11.0->tensorflow) (3.4.1)\n",
      "Requirement already satisfied: requests<3,>=2.21.0 in c:\\users\\suheyl\\appdata\\local\\programs\\python\\python39\\lib\\site-packages (from tensorboard<2.12,>=2.11->tensorflow-intel==2.11.0->tensorflow) (2.26.0)\n",
      "Collecting tensorboard-plugin-wit>=1.6.0\n",
      "  Using cached tensorboard_plugin_wit-1.8.1-py3-none-any.whl (781 kB)\n",
      "Collecting google-auth<3,>=1.6.3\n",
      "  Downloading google_auth-2.16.0-py2.py3-none-any.whl (177 kB)\n",
      "     ------------------------------------ 177.8/177.8 kB 896.0 kB/s eta 0:00:00\n",
      "Collecting tensorboard-data-server<0.7.0,>=0.6.0\n",
      "  Using cached tensorboard_data_server-0.6.1-py3-none-any.whl (2.4 kB)\n",
      "Requirement already satisfied: pyparsing!=3.0.5,>=2.0.2 in c:\\users\\suheyl\\appdata\\local\\programs\\python\\python39\\lib\\site-packages (from packaging->tensorflow-intel==2.11.0->tensorflow) (2.4.7)\n",
      "Collecting rsa<5,>=3.1.4\n",
      "  Downloading rsa-4.9-py3-none-any.whl (34 kB)\n",
      "Collecting pyasn1-modules>=0.2.1\n",
      "  Using cached pyasn1_modules-0.2.8-py2.py3-none-any.whl (155 kB)\n",
      "Collecting cachetools<6.0,>=2.0.0\n",
      "  Downloading cachetools-5.3.0-py3-none-any.whl (9.3 kB)\n",
      "Collecting requests-oauthlib>=0.7.0\n",
      "  Using cached requests_oauthlib-1.3.1-py2.py3-none-any.whl (23 kB)\n",
      "Requirement already satisfied: importlib-metadata>=4.4 in c:\\users\\suheyl\\appdata\\local\\programs\\python\\python39\\lib\\site-packages (from markdown>=2.6.8->tensorboard<2.12,>=2.11->tensorflow-intel==2.11.0->tensorflow) (5.0.0)\n",
      "Requirement already satisfied: idna<4,>=2.5 in c:\\users\\suheyl\\appdata\\local\\programs\\python\\python39\\lib\\site-packages (from requests<3,>=2.21.0->tensorboard<2.12,>=2.11->tensorflow-intel==2.11.0->tensorflow) (3.2)\n",
      "Requirement already satisfied: certifi>=2017.4.17 in c:\\users\\suheyl\\appdata\\local\\programs\\python\\python39\\lib\\site-packages (from requests<3,>=2.21.0->tensorboard<2.12,>=2.11->tensorflow-intel==2.11.0->tensorflow) (2021.5.30)\n",
      "Requirement already satisfied: charset-normalizer~=2.0.0 in c:\\users\\suheyl\\appdata\\local\\programs\\python\\python39\\lib\\site-packages (from requests<3,>=2.21.0->tensorboard<2.12,>=2.11->tensorflow-intel==2.11.0->tensorflow) (2.0.4)\n",
      "Requirement already satisfied: urllib3<1.27,>=1.21.1 in c:\\users\\suheyl\\appdata\\local\\programs\\python\\python39\\lib\\site-packages (from requests<3,>=2.21.0->tensorboard<2.12,>=2.11->tensorflow-intel==2.11.0->tensorflow) (1.26.6)\n",
      "Collecting MarkupSafe>=2.1.1\n",
      "  Downloading MarkupSafe-2.1.2-cp39-cp39-win_amd64.whl (16 kB)\n",
      "Requirement already satisfied: zipp>=0.5 in c:\\users\\suheyl\\appdata\\local\\programs\\python\\python39\\lib\\site-packages (from importlib-metadata>=4.4->markdown>=2.6.8->tensorboard<2.12,>=2.11->tensorflow-intel==2.11.0->tensorflow) (3.9.0)\n",
      "Collecting pyasn1<0.5.0,>=0.4.6\n",
      "  Using cached pyasn1-0.4.8-py2.py3-none-any.whl (77 kB)\n",
      "Collecting oauthlib>=3.0.0\n",
      "  Downloading oauthlib-3.2.2-py3-none-any.whl (151 kB)\n",
      "     -------------------------------------- 151.7/151.7 kB 1.5 MB/s eta 0:00:00\n",
      "Installing collected packages: tensorboard-plugin-wit, pyasn1, libclang, flatbuffers, termcolor, tensorflow-io-gcs-filesystem, tensorflow-estimator, tensorboard-data-server, rsa, pyasn1-modules, protobuf, opt-einsum, oauthlib, MarkupSafe, keras, h5py, grpcio, google-pasta, gast, cachetools, astunparse, absl-py, werkzeug, requests-oauthlib, google-auth, google-auth-oauthlib, tensorboard, tensorflow-intel, tensorflow\n",
      "  Attempting uninstall: MarkupSafe\n",
      "    Found existing installation: MarkupSafe 2.0.1\n",
      "    Uninstalling MarkupSafe-2.0.1:\n",
      "      Successfully uninstalled MarkupSafe-2.0.1\n",
      "Successfully installed MarkupSafe-2.1.2 absl-py-1.4.0 astunparse-1.6.3 cachetools-5.3.0 flatbuffers-23.1.21 gast-0.4.0 google-auth-2.16.0 google-auth-oauthlib-0.4.6 google-pasta-0.2.0 grpcio-1.51.1 h5py-3.8.0 keras-2.11.0 libclang-15.0.6.1 oauthlib-3.2.2 opt-einsum-3.3.0 protobuf-3.19.6 pyasn1-0.4.8 pyasn1-modules-0.2.8 requests-oauthlib-1.3.1 rsa-4.9 tensorboard-2.11.2 tensorboard-data-server-0.6.1 tensorboard-plugin-wit-1.8.1 tensorflow-2.11.0 tensorflow-estimator-2.11.0 tensorflow-intel-2.11.0 tensorflow-io-gcs-filesystem-0.30.0 termcolor-2.2.0 werkzeug-2.2.2\n"
     ]
    }
   ],
   "source": [
    "!pip install tensorflow"
   ]
  },
  {
   "attachments": {},
   "cell_type": "markdown",
   "metadata": {},
   "source": [
    "# 2) Veriyi Anlamak (Data Understanding)"
   ]
  },
  {
   "cell_type": "code",
   "execution_count": 5,
   "metadata": {},
   "outputs": [],
   "source": [
    "import tensorflow as tf\n",
    "from tensorflow.keras.datasets import mnist\n",
    "from tensorflow.keras.models import load_model, Sequential\n",
    "from tensorflow.keras.layers import Dense, Flatten\n",
    "from tensorflow.keras.utils import to_categorical, plot_model\n",
    "\n",
    "import matplotlib.pyplot as plt\n",
    "import numpy as np\n",
    "\n",
    "import warnings\n",
    "from warnings import filterwarnings\n",
    "warnings.filterwarnings(\"ignore\", category=DeprecationWarning)\n",
    "warnings.filterwarnings(\"ignore\", category=FutureWarning)\n",
    "warnings.filterwarnings(\"ignore\", category=UserWarning)\n",
    "filterwarnings(\"ignore\")"
   ]
  },
  {
   "cell_type": "code",
   "execution_count": 6,
   "metadata": {},
   "outputs": [
    {
     "name": "stdout",
     "output_type": "stream",
     "text": [
      "Downloading data from https://storage.googleapis.com/tensorflow/tf-keras-datasets/mnist.npz\n",
      "11490434/11490434 [==============================] - 4s 0us/step\n"
     ]
    }
   ],
   "source": [
    "# Mnist veri setinin yüklenmesi\n",
    "(x_train, y_train), (x_test, y_test) = mnist.load_data()"
   ]
  },
  {
   "cell_type": "code",
   "execution_count": 7,
   "metadata": {},
   "outputs": [
    {
     "name": "stdout",
     "output_type": "stream",
     "text": [
      "Eğitim Seti Boyutu: (60000, 28, 28) (60000,)\n"
     ]
    }
   ],
   "source": [
    "print(\"Eğitim Seti Boyutu:\", x_train.shape, y_train.shape)  # 60000 adet, 28x28 pikselden oluşan görsel mevcut."
   ]
  },
  {
   "cell_type": "code",
   "execution_count": 8,
   "metadata": {},
   "outputs": [
    {
     "name": "stdout",
     "output_type": "stream",
     "text": [
      "Test Seti Boyutu: (10000, 28, 28) (10000,)\n"
     ]
    }
   ],
   "source": [
    "print(\"Test Seti Boyutu:\", x_test.shape, y_test.shape) # 10000 adet, 28x28 pikselden oluşan görsel mevcut."
   ]
  },
  {
   "cell_type": "code",
   "execution_count": 10,
   "metadata": {},
   "outputs": [],
   "source": [
    "num_labels = len(np.unique(y_train))  # 0' dan 9'a kadar olan rakamların sayısı toplam 10'dur."
   ]
  },
  {
   "cell_type": "code",
   "execution_count": 60,
   "metadata": {},
   "outputs": [
    {
     "data": {
      "text/plain": [
       "<matplotlib.image.AxesImage at 0x2d758bcc580>"
      ]
     },
     "execution_count": 60,
     "metadata": {},
     "output_type": "execute_result"
    },
    {
     "data": {
      "image/png": "[encoded data removed]",
      "text/plain": [
       "<Figure size 720x720 with 1 Axes>"
      ]
     },
     "metadata": {
      "needs_background": "light"
     },
     "output_type": "display_data"
    }
   ],
   "source": [
    "# Veri Setinden Örneklerin Gösterilmesi\n",
    "\n",
    "plt.figure(figsize=(10,10))\n",
    "plt.imshow(x_train[2], cmap= \"gray\")  # 2. indisteki görsel."
   ]
  },
  {
   "cell_type": "code",
   "execution_count": 59,
   "metadata": {},
   "outputs": [
    {
     "data": {
      "image/png": "[encoded data removed]",
      "text/plain": [
       "<Figure size 720x720 with 10 Axes>"
      ]
     },
     "metadata": {
      "needs_background": "light"
     },
     "output_type": "display_data"
    }
   ],
   "source": [
    "plt.figure(figsize=(10,10))  # Buradaki for loop'u ile 10 adet görseli gösteriyoruz.\n",
    "for n in range(10):\n",
    "    ax = plt.subplot(5,5,n+1)\n",
    "    plt.imshow(x_train[n], cmap=\"gray\")\n",
    "    plt.axis(\"off\")"
   ]
  },
  {
   "cell_type": "code",
   "execution_count": 19,
   "metadata": {},
   "outputs": [
    {
     "data": {
      "image/png": "[encoded data removed]",
      "text/plain": [
       "<Figure size 720x720 with 10 Axes>"
      ]
     },
     "metadata": {
      "needs_background": "light"
     },
     "output_type": "display_data"
    }
   ],
   "source": [
    "def visualize_img(data):   # Göstermek istediğimiz görselleri, daha kolay ulaşabilmek için bir fonksiyona atadık.\n",
    "    plt.figure(figsize=(10,10))\n",
    "    for n in range(10):\n",
    "        ax = plt.subplot(5,5,n+1)\n",
    "        plt.imshow(data[n], cmap=\"gray\")\n",
    "        plt.axis(\"off\")\n",
    "\n",
    "visualize_img(x_train)\n"
   ]
  },
  {
   "cell_type": "code",
   "execution_count": 20,
   "metadata": {},
   "outputs": [],
   "source": [
    "# RGB (0-255)\n",
    "# 0'a doğru gidildikçe siyahlaşır, 255'e doğru gidildikçe beyazlaşır.\n",
    "# r:250 g:10 b:240  ==> mor rengini veren uluslararası bir format\n",
    "# r:250 g:0 b:250 ==> daha koyu bir mor rengi.\n",
    "# w3schools.com/colors/colors_rgb.asp adresinden farklı farklı renkler test edilebilir."
   ]
  },
  {
   "cell_type": "code",
   "execution_count": 21,
   "metadata": {},
   "outputs": [
    {
     "data": {
      "text/plain": [
       "(28, 28)"
      ]
     },
     "execution_count": 21,
     "metadata": {},
     "output_type": "execute_result"
    }
   ],
   "source": [
    "x_train[2].shape"
   ]
  },
  {
   "cell_type": "code",
   "execution_count": 37,
   "metadata": {},
   "outputs": [
    {
     "data": {
      "text/plain": [
       "array([[  0,   0,   0,   0,   0,   0,   0,   0,   0,   0,   0,   0,   0,\n",
       "          0,   0,   0,   0,   0,   0,   0,   0,   0,   0,   0,   0,   0,\n",
       "          0,   0],\n",
       "       [  0,   0,   0,   0,   0,   0,   0,   0,   0,   0,   0,   0,   0,\n",
       "          0,   0,   0,   0,   0,   0,   0,   0,   0,   0,   0,   0,   0,\n",
       "          0,   0],\n",
       "       [  0,   0,   0,   0,   0,   0,   0,   0,   0,   0,   0,   0,   0,\n",
       "          0,   0,   0,   0,   0,   0,   0,   0,   0,   0,   0,   0,   0,\n",
       "          0,   0],\n",
       "       [  0,   0,   0,   0,   0,   0,   0,   0,   0,   0,   0,   0,   0,\n",
       "          0,   0,   0,   0,   0,   0,   0,   0,   0,   0,   0,   0,   0,\n",
       "          0,   0],\n",
       "       [  0,   0,   0,   0,   0,   0,   0,   0,   0,   0,   0,   0,   0,\n",
       "          0,   0,   0,   0,   0,   0,   0,   0,   0,   0,   0,   0,   0,\n",
       "          0,   0],\n",
       "       [  0,   0,   0,   0,   0,   0,   0,   0,   0,   0,   0,   0,   0,\n",
       "          0,   0,   0,   0,   0,   0,   0,  67, 232,  39,   0,   0,   0,\n",
       "          0,   0],\n",
       "       [  0,   0,   0,   0,  62,  81,   0,   0,   0,   0,   0,   0,   0,\n",
       "          0,   0,   0,   0,   0,   0,   0, 120, 180,  39,   0,   0,   0,\n",
       "          0,   0],\n",
       "       [  0,   0,   0,   0, 126, 163,   0,   0,   0,   0,   0,   0,   0,\n",
       "          0,   0,   0,   0,   0,   0,   2, 153, 210,  40,   0,   0,   0,\n",
       "          0,   0],\n",
       "       [  0,   0,   0,   0, 220, 163,   0,   0,   0,   0,   0,   0,   0,\n",
       "          0,   0,   0,   0,   0,   0,  27, 254, 162,   0,   0,   0,   0,\n",
       "          0,   0],\n",
       "       [  0,   0,   0,   0, 222, 163,   0,   0,   0,   0,   0,   0,   0,\n",
       "          0,   0,   0,   0,   0,   0, 183, 254, 125,   0,   0,   0,   0,\n",
       "          0,   0],\n",
       "       [  0,   0,   0,  46, 245, 163,   0,   0,   0,   0,   0,   0,   0,\n",
       "          0,   0,   0,   0,   0,   0, 198, 254,  56,   0,   0,   0,   0,\n",
       "          0,   0],\n",
       "       [  0,   0,   0, 120, 254, 163,   0,   0,   0,   0,   0,   0,   0,\n",
       "          0,   0,   0,   0,   0,  23, 231, 254,  29,   0,   0,   0,   0,\n",
       "          0,   0],\n",
       "       [  0,   0,   0, 159, 254, 120,   0,   0,   0,   0,   0,   0,   0,\n",
       "          0,   0,   0,   0,   0, 163, 254, 216,  16,   0,   0,   0,   0,\n",
       "          0,   0],\n",
       "       [  0,   0,   0, 159, 254,  67,   0,   0,   0,   0,   0,   0,   0,\n",
       "          0,   0,  14,  86, 178, 248, 254,  91,   0,   0,   0,   0,   0,\n",
       "          0,   0],\n",
       "       [  0,   0,   0, 159, 254,  85,   0,   0,   0,  47,  49, 116, 144,\n",
       "        150, 241, 243, 234, 179, 241, 252,  40,   0,   0,   0,   0,   0,\n",
       "          0,   0],\n",
       "       [  0,   0,   0, 150, 253, 237, 207, 207, 207, 253, 254, 250, 240,\n",
       "        198, 143,  91,  28,   5, 233, 250,   0,   0,   0,   0,   0,   0,\n",
       "          0,   0],\n",
       "       [  0,   0,   0,   0, 119, 177, 177, 177, 177, 177,  98,  56,   0,\n",
       "          0,   0,   0,   0, 102, 254, 220,   0,   0,   0,   0,   0,   0,\n",
       "          0,   0],\n",
       "       [  0,   0,   0,   0,   0,   0,   0,   0,   0,   0,   0,   0,   0,\n",
       "          0,   0,   0,   0, 169, 254, 137,   0,   0,   0,   0,   0,   0,\n",
       "          0,   0],\n",
       "       [  0,   0,   0,   0,   0,   0,   0,   0,   0,   0,   0,   0,   0,\n",
       "          0,   0,   0,   0, 169, 254,  57,   0,   0,   0,   0,   0,   0,\n",
       "          0,   0],\n",
       "       [  0,   0,   0,   0,   0,   0,   0,   0,   0,   0,   0,   0,   0,\n",
       "          0,   0,   0,   0, 169, 254,  57,   0,   0,   0,   0,   0,   0,\n",
       "          0,   0],\n",
       "       [  0,   0,   0,   0,   0,   0,   0,   0,   0,   0,   0,   0,   0,\n",
       "          0,   0,   0,   0, 169, 255,  94,   0,   0,   0,   0,   0,   0,\n",
       "          0,   0],\n",
       "       [  0,   0,   0,   0,   0,   0,   0,   0,   0,   0,   0,   0,   0,\n",
       "          0,   0,   0,   0, 169, 254,  96,   0,   0,   0,   0,   0,   0,\n",
       "          0,   0],\n",
       "       [  0,   0,   0,   0,   0,   0,   0,   0,   0,   0,   0,   0,   0,\n",
       "          0,   0,   0,   0, 169, 254, 153,   0,   0,   0,   0,   0,   0,\n",
       "          0,   0],\n",
       "       [  0,   0,   0,   0,   0,   0,   0,   0,   0,   0,   0,   0,   0,\n",
       "          0,   0,   0,   0, 169, 255, 153,   0,   0,   0,   0,   0,   0,\n",
       "          0,   0],\n",
       "       [  0,   0,   0,   0,   0,   0,   0,   0,   0,   0,   0,   0,   0,\n",
       "          0,   0,   0,   0,  96, 254, 153,   0,   0,   0,   0,   0,   0,\n",
       "          0,   0],\n",
       "       [  0,   0,   0,   0,   0,   0,   0,   0,   0,   0,   0,   0,   0,\n",
       "          0,   0,   0,   0,   0,   0,   0,   0,   0,   0,   0,   0,   0,\n",
       "          0,   0],\n",
       "       [  0,   0,   0,   0,   0,   0,   0,   0,   0,   0,   0,   0,   0,\n",
       "          0,   0,   0,   0,   0,   0,   0,   0,   0,   0,   0,   0,   0,\n",
       "          0,   0],\n",
       "       [  0,   0,   0,   0,   0,   0,   0,   0,   0,   0,   0,   0,   0,\n",
       "          0,   0,   0,   0,   0,   0,   0,   0,   0,   0,   0,   0,   0,\n",
       "          0,   0]], dtype=uint8)"
      ]
     },
     "execution_count": 37,
     "metadata": {},
     "output_type": "execute_result"
    }
   ],
   "source": [
    "# x_train'de 2.sıradaki görselin renklerine denk gelen nümerik değerler bir array formatında görülüyor.\n",
    "x_train[2]  "
   ]
  },
  {
   "cell_type": "code",
   "execution_count": 35,
   "metadata": {},
   "outputs": [
    {
     "name": "stdout",
     "output_type": "stream",
     "text": [
      "x_train'de 2.sıradaki görselin 10x10. piksel değeri:  0 'dır\n"
     ]
    },
    {
     "data": {
      "text/plain": [
       "<matplotlib.image.AxesImage at 0x2d755422dc0>"
      ]
     },
     "execution_count": 35,
     "metadata": {},
     "output_type": "execute_result"
    },
    {
     "data": {
      "image/png": "[encoded data removed]",
      "text/plain": [
       "<Figure size 720x720 with 1 Axes>"
      ]
     },
     "metadata": {
      "needs_background": "light"
     },
     "output_type": "display_data"
    }
   ],
   "source": [
    "print(\"x_train'de 2.sıradaki görselin 10x10. piksel değeri: \",x_train[2][10,10], \"'dır\") \n",
    "\n",
    "# x_train'de 2.sıradaki görselin, 10x10. görseli siyah olmalıdır. \n",
    "# Çünkü burada 0 olduğunu gördük.\n",
    "# Görseli kontrol edelim.\n",
    "\n",
    "plt.figure(figsize=(10,10))\n",
    "plt.imshow(x_train[2], cmap= \"gray\")\n",
    "\n",
    "# x ekseninde 10 ve y ekseninde 10 değerlerini takip edersek siyah bir bölge olduğunu görürüz.\n"
   ]
  },
  {
   "cell_type": "code",
   "execution_count": 43,
   "metadata": {},
   "outputs": [
    {
     "name": "stdout",
     "output_type": "stream",
     "text": [
      "x_train'de 2.sıradaki görselin 15x4. piksel değeri:  253 'dur\n"
     ]
    },
    {
     "data": {
      "text/plain": [
       "<matplotlib.image.AxesImage at 0x2d755136e50>"
      ]
     },
     "execution_count": 43,
     "metadata": {},
     "output_type": "execute_result"
    },
    {
     "data": {
      "image/png": "[encoded data removed]",
      "text/plain": [
       "<Figure size 720x720 with 1 Axes>"
      ]
     },
     "metadata": {
      "needs_background": "light"
     },
     "output_type": "display_data"
    }
   ],
   "source": [
    "# Bir de beyaz bir bölge bulmaya çalışalım ve onun nümerik değerini kontrol edelim.\n",
    "\n",
    "print(\"x_train'de 2.sıradaki görselin 15x4. piksel değeri: \",x_train[2][15,4], \"'dur\")\n",
    "\n",
    "# x_train'de 2.sıradaki görselin, 15x4. görseli beyaz olmalıdır. \n",
    "# Çünkü burada 253 olduğunu gördük. Neredeyse 255 yani oldukça beyaz.\n",
    "# Görseli kontrol edelim.\n",
    "\n",
    "plt.figure(figsize=(10,10))\n",
    "plt.imshow(x_train[2], cmap= \"gray\")\n",
    "\n",
    "# x ekseninde 4 ve y ekseninde 15 değerlerini takip edersek beyaz bir bölge olduğunu görürüz.\n"
   ]
  },
  {
   "cell_type": "code",
   "execution_count": 45,
   "metadata": {},
   "outputs": [
    {
     "data": {
      "text/plain": [
       "19443"
      ]
     },
     "execution_count": 45,
     "metadata": {},
     "output_type": "execute_result"
    }
   ],
   "source": [
    "x_train[2].mean()  # bu resmin nümerik temsili 24 civarında olabilir.\n",
    "#x_train[2].sum()"
   ]
  },
  {
   "cell_type": "code",
   "execution_count": 48,
   "metadata": {},
   "outputs": [
    {
     "data": {
      "text/plain": [
       "array([[ 49, 116, 144, 150, 241, 243, 234, 179, 241, 252],\n",
       "       [254, 250, 240, 198, 143,  91,  28,   5, 233, 250],\n",
       "       [ 98,  56,   0,   0,   0,   0,   0, 102, 254, 220],\n",
       "       [  0,   0,   0,   0,   0,   0,   0, 169, 254, 137],\n",
       "       [  0,   0,   0,   0,   0,   0,   0, 169, 254,  57],\n",
       "       [  0,   0,   0,   0,   0,   0,   0, 169, 254,  57]], dtype=uint8)"
      ]
     },
     "execution_count": 48,
     "metadata": {},
     "output_type": "execute_result"
    }
   ],
   "source": [
    "# x_train'de 2. sıradaki görselin nümerik gösteriminden (array içinden) bir kesit alalım.\n",
    "# Görselin bir noktasına zoom yapmışız gibi düşünülebilir.\n",
    "\n",
    "x_train[2][14:20, 10:20]  "
   ]
  },
  {
   "cell_type": "code",
   "execution_count": 49,
   "metadata": {},
   "outputs": [
    {
     "data": {
      "text/plain": [
       "96.51666666666667"
      ]
     },
     "execution_count": 49,
     "metadata": {},
     "output_type": "execute_result"
    }
   ],
   "source": [
    "x_train[2][14:20, 10:20].mean()  # zoom yaptığımız bölgenin nümerik temsili bu olabilir."
   ]
  },
  {
   "cell_type": "code",
   "execution_count": 54,
   "metadata": {},
   "outputs": [],
   "source": [
    "# Şimdi de seçeceğimiz bir görseli, nümerik gösterimleri ile birlikte yazdıracak bir fonksiyon yazalım.\n",
    "\n",
    "def pixel_visualize(img):\n",
    "    fig = plt.figure(figsize=(12,12))\n",
    "    ax = fig.add_subplot(111)\n",
    "    ax.imshow(img, cmap=\"gray\")\n",
    "    width, height = img.shape\n",
    "    \n",
    "    threshold = img.max() / 2.5\n",
    "    \n",
    "    for x in range(width):\n",
    "        for y in range(height):\n",
    "            \n",
    "            ax.annotate(str(round(img[x][y], 2)), \n",
    "                        xy = (y,x),\n",
    "                        color = \"white\" if img[x][y] < threshold else \"black\")"
   ]
  },
  {
   "cell_type": "code",
   "execution_count": 57,
   "metadata": {},
   "outputs": [
    {
     "data": {
      "image/png": "[encoded data removed]",
      "text/plain": [
       "<Figure size 864x864 with 1 Axes>"
      ]
     },
     "metadata": {
      "needs_background": "light"
     },
     "output_type": "display_data"
    }
   ],
   "source": [
    "pixel_visualize(x_train[2])"
   ]
  },
  {
   "attachments": {},
   "cell_type": "markdown",
   "metadata": {},
   "source": [
    "# 3) Veriyi Hazırlamak (Data Preparation)"
   ]
  },
  {
   "attachments": {},
   "cell_type": "markdown",
   "metadata": {},
   "source": [
    "## Encoding\n",
    "\n",
    "- Önce : [0 1 2 3 4 5 6 7 8 9]\n",
    "\n",
    "--> Encoding yöntemiyle gösterilmek istenen rakama denk gelen indis 1, diğer tüm indisler 0 olur.\n",
    "\n",
    "- Sonra: [0 0 1 0 0 0 0 0 0 0]\n",
    "\n",
    "--> Burada gösterilecek değer 2 rakamı olur. Sadece onun indisine denk gelen sayı 1, diğerleri 0'dır. "
   ]
  },
  {
   "cell_type": "code",
   "execution_count": 61,
   "metadata": {},
   "outputs": [
    {
     "data": {
      "text/plain": [
       "array([5, 0, 4, 1, 9], dtype=uint8)"
      ]
     },
     "execution_count": 61,
     "metadata": {},
     "output_type": "execute_result"
    }
   ],
   "source": [
    "# y_train'de yer alan bir bölgeden kesit aldık. Sonuçlarını rakamlar ile görüyoruz.\n",
    "y_train[0:5]"
   ]
  },
  {
   "cell_type": "code",
   "execution_count": 62,
   "metadata": {},
   "outputs": [],
   "source": [
    "# Encoding yöntemini uyguluyoruz.\n",
    "y_train = to_categorical(y_train)\n",
    "y_test = to_categorical(y_test)"
   ]
  },
  {
   "cell_type": "code",
   "execution_count": 64,
   "metadata": {},
   "outputs": [
    {
     "data": {
      "text/plain": [
       "array([[0., 0., 0., 0., 0., 1., 0., 0., 0., 0.],\n",
       "       [1., 0., 0., 0., 0., 0., 0., 0., 0., 0.],\n",
       "       [0., 0., 0., 0., 1., 0., 0., 0., 0., 0.],\n",
       "       [0., 1., 0., 0., 0., 0., 0., 0., 0., 0.],\n",
       "       [0., 0., 0., 0., 0., 0., 0., 0., 0., 1.]], dtype=float32)"
      ]
     },
     "execution_count": 64,
     "metadata": {},
     "output_type": "execute_result"
    }
   ],
   "source": [
    "# Encoding yöntemi uygulandıktan sonra tekrar aynı bölgenin kestini alıyoruz ve sadece 0 ve 1'lerden oluşan array karşımıza çıkıyor.\n",
    "y_train[0:5]"
   ]
  },
  {
   "attachments": {},
   "cell_type": "markdown",
   "metadata": {},
   "source": [
    "## Reshaping"
   ]
  },
  {
   "cell_type": "code",
   "execution_count": 65,
   "metadata": {},
   "outputs": [],
   "source": [
    "image_size = x_train.shape[1]"
   ]
  },
  {
   "cell_type": "code",
   "execution_count": 66,
   "metadata": {},
   "outputs": [
    {
     "data": {
      "text/plain": [
       "28"
      ]
     },
     "execution_count": 66,
     "metadata": {},
     "output_type": "execute_result"
    }
   ],
   "source": [
    "image_size"
   ]
  },
  {
   "cell_type": "code",
   "execution_count": 68,
   "metadata": {},
   "outputs": [
    {
     "name": "stdout",
     "output_type": "stream",
     "text": [
      "x_train boyutu: (60000, 28, 28)\n",
      "x_test boyutu: (10000, 28, 28)\n"
     ]
    }
   ],
   "source": [
    "print(f\"x_train boyutu: {x_train.shape}\")\n",
    "print(f\"x_test boyutu: {x_test.shape}\")"
   ]
  },
  {
   "cell_type": "code",
   "execution_count": 69,
   "metadata": {},
   "outputs": [
    {
     "name": "stdout",
     "output_type": "stream",
     "text": [
      "x_train boyutu: (60000, 28, 28, 1)\n",
      "x_test boyutu: (10000, 28, 28, 1)\n"
     ]
    }
   ],
   "source": [
    "x_train = x_train.reshape(x_train.shape[0], 28, 28, 1)\n",
    "x_test = x_test.reshape(x_test.shape[0], 28, 28, 1)\n",
    "\n",
    "# reshape methodu sonrasında parantez içerisine eklenen 1 değerleri, görsellerdeki piksellerin değerlerini tutmaktadır.\n",
    "\n",
    "print(f\"x_train boyutu: {x_train.shape}\")\n",
    "print(f\"x_test boyutu: {x_test.shape}\")"
   ]
  },
  {
   "attachments": {},
   "cell_type": "markdown",
   "metadata": {},
   "source": [
    "## Normalization\n",
    "\n",
    "- Bu bölümde piksellerde yer alan 0-255 arasındaki değerleri 0-1 arasına alacağız yani standartlaştıracağız.\n",
    "- Bu sayede öğrenme hızını artırabiliyoruz."
   ]
  },
  {
   "cell_type": "code",
   "execution_count": 72,
   "metadata": {},
   "outputs": [],
   "source": [
    "# Standardization\n",
    "\n",
    "x_train = x_train.astype(\"float32\") / 255\n",
    "\n",
    "x_test = x_test.astype(\"float32\") / 255\n",
    "\n",
    "# float32'ye dönüştürmemizdeki amacımız, programatik performans açısından işlerimizi hızlandırmak."
   ]
  },
  {
   "attachments": {},
   "cell_type": "markdown",
   "metadata": {},
   "source": [
    "## 4) Modelleme (Modeling)\n",
    "\n",
    "### Sinir Ağı Mimarisini Tanımlamak"
   ]
  },
  {
   "cell_type": "code",
   "execution_count": 83,
   "metadata": {},
   "outputs": [],
   "source": [
    "# Model kuruyoruz. Burada sequential, sıralı demektir. \n",
    "# Bu yapı sayesinde sıralı katmanlardan oluşan bir YSA kolay bir şekilde oluşturulabilir.\n",
    "\n",
    "model = tf.keras.Sequential([\n",
    "    Flatten(input_shape = (28, 28, 1)),                                          # Flatten bizim giriş katmanımız.\n",
    "    Dense(units = 128, activation = \"relu\", name = \"layer1\"),                    # Dense bizim hidden katmanımız.\n",
    "    Dense(units = num_labels, activation = \"softmax\", name = \"output_layer\")     # Çıktı katmanımız da burasıdır.\n",
    "])\n",
    "\n",
    "# Modelimizi bir apartman olarak düşünecek olursak ilk bölümde dış cephesini tamamladık.\n",
    "# Dense içerisindeki units, nöron sayısını temsil etmektedir. \n",
    "# Burada 128 kullanılmasının sebebi literatürde MNİST veri seti için 128'in yaygın olarak kullanılmasıdır.\n",
    "# Elimizde bir araç tahmin modeli olsaydu bu units değerini belki de 10 yapacaktık ancak MNİST için 128 olması gerektiği düşünülüyor.\n",
    "# Yani görsellerin bulunduğu veri setindeki ağırlıkları belirlememize yarayan 128 tane özellik olduğu düşünülüyor.\n",
    "# Bu özellikler 10 tane rakamı sınıflandırmak için ağırlıkları belirlenecek olan özelliklerdir.\n",
    "\n",
    "# Hidden layer'da kullanılan aktivasyon fonksiyonu \"relu\"dur. Gizli katmanlarda relu kullanılır.\n",
    "# İnsan sinir hücrelerine çok benzeyen \"relu\" aktivasyon fonksiyonları, nöronları söndürme ya da ateşleme görevlerini üstlenir.\n",
    "# Bir nöron işe yaramayacaksa onu söndürecek ve işlemlerim süresinin kısalmasını sağlayacaktır.\n",
    "\n",
    "# Son katmanda (çıktı katmanı) kullanılan aktivasyon fonksiyonu \"softmax\"tir. Bir sınıflandırma problemi ile ilgileniyoruz ve çıktımızda sınıflanıdrılmasını beklediğimiz 10 farklı sonuç var (0-9 rakamlar).\n",
    "# Çok sınıflı bir sınıflandırma görevinde olduğumuzdan dolayı \"softmax\"i tercih ettik. Eğer iki sınıflı bir sınıflandırma problemi olsaydı, çıktı katmanında \"sigmoid\" aktivasyon fonksiyonunu kullanacaktık.\n",
    "# 10 adet sınıf olduğu için çıktı katmanında 10 adet nöronumuz olacak. Onu da num_labels (rakamları atadığımız değişken) olarak belirledik yani 10. \n",
    "\n",
    "model.compile(loss = \"categorical_crossentropy\",  # Burada \"loss\", hata değerlendirme metriğidir. Amaç bu fonksiyonu minimize etmektir. Çok sınıflı (3,4,5,10 sınıflı) bir sınıflandırma problemi söz konusu olduğu için \"categorical_crossentropy\" kullanıyoruz. Bu da optimize edilmesi gereken kayıp fonksiyonunu ifade etmektedir.\n",
    "              optimizer = \"adam\", # loss fonksiyonunu minimize edecek optimizasyon yöntemi, algoritmasıdır. \"Stochastic Gradient Descent\" bunlardan birisidir. \"Adam\" bunlardan birisidir. Biz \"Adam\" ı kullanacağız. Farklı alternatifler de denenebilir.\n",
    "              metrics = [tf.keras.metrics.Precision(), tf.keras.metrics.Recall(), \"accuracy\"])   # Burada \"metrics\" ile çağırdığımız şeyler aslında modelin başarını kontrol etmek içindir. Sadece accuracy ie de kontrol edebiliriz ama birkaç tane de ona destek olacak şey çağırdık.\n",
    "# model.compile ile de mimariyi hazırladıktan sonra bu özellikler ile modeli kur demek istedik."
   ]
  },
  {
   "cell_type": "code",
   "execution_count": 84,
   "metadata": {},
   "outputs": [
    {
     "name": "stdout",
     "output_type": "stream",
     "text": [
      "Model: \"sequential_4\"\n",
      "_________________________________________________________________\n",
      " Layer (type)                Output Shape              Param #   \n",
      "=================================================================\n",
      " flatten_4 (Flatten)         (None, 784)               0         \n",
      "                                                                 \n",
      " layer1 (Dense)              (None, 128)               100480    \n",
      "                                                                 \n",
      " output_layer (Dense)        (None, 10)                1290      \n",
      "                                                                 \n",
      "=================================================================\n",
      "Total params: 101,770\n",
      "Trainable params: 101,770\n",
      "Non-trainable params: 0\n",
      "_________________________________________________________________\n"
     ]
    }
   ],
   "source": [
    "model.summary()"
   ]
  },
  {
   "cell_type": "code",
   "execution_count": 78,
   "metadata": {},
   "outputs": [
    {
     "name": "stdout",
     "output_type": "stream",
     "text": [
      "Epoch 1/5\n",
      "469/469 [==============================] - 3s 4ms/step - loss: 2.3015 - precision: 0.0000e+00 - recall: 0.0000e+00 - accuracy: 0.1117 - val_loss: 2.3010 - val_precision: 0.0000e+00 - val_recall: 0.0000e+00 - val_accuracy: 0.1135\n",
      "Epoch 2/5\n",
      "469/469 [==============================] - 2s 4ms/step - loss: 2.3012 - precision: 0.0000e+00 - recall: 0.0000e+00 - accuracy: 0.1124 - val_loss: 2.3009 - val_precision: 0.0000e+00 - val_recall: 0.0000e+00 - val_accuracy: 0.1135\n",
      "Epoch 3/5\n",
      "469/469 [==============================] - 2s 4ms/step - loss: 2.3011 - precision: 0.0000e+00 - recall: 0.0000e+00 - accuracy: 0.1124 - val_loss: 2.3007 - val_precision: 0.0000e+00 - val_recall: 0.0000e+00 - val_accuracy: 0.1135\n",
      "Epoch 4/5\n",
      "469/469 [==============================] - 2s 4ms/step - loss: 2.3009 - precision: 0.0000e+00 - recall: 0.0000e+00 - accuracy: 0.1124 - val_loss: 2.3004 - val_precision: 0.0000e+00 - val_recall: 0.0000e+00 - val_accuracy: 0.1135\n",
      "Epoch 5/5\n",
      "469/469 [==============================] - 2s 4ms/step - loss: 2.3006 - precision: 0.0000e+00 - recall: 0.0000e+00 - accuracy: 0.1124 - val_loss: 2.3001 - val_precision: 0.0000e+00 - val_recall: 0.0000e+00 - val_accuracy: 0.1135\n"
     ]
    },
    {
     "data": {
      "text/plain": [
       "<keras.callbacks.History at 0x2d755afb250>"
      ]
     },
     "execution_count": 78,
     "metadata": {},
     "output_type": "execute_result"
    }
   ],
   "source": [
    "model.fit(x_train, y_train, epochs = 5, batch_size = 128, validation_data = (x_test, y_test))  # Epoch = 5 iken hatayı kontrol edelim."
   ]
  },
  {
   "cell_type": "code",
   "execution_count": 85,
   "metadata": {},
   "outputs": [
    {
     "name": "stdout",
     "output_type": "stream",
     "text": [
      "Epoch 1/10\n",
      "469/469 [==============================] - 2s 3ms/step - loss: 2.3015 - precision_1: 0.0000e+00 - recall_1: 0.0000e+00 - accuracy: 0.1120 - val_loss: 2.3009 - val_precision_1: 0.0000e+00 - val_recall_1: 0.0000e+00 - val_accuracy: 0.1135\n",
      "Epoch 2/10\n",
      "469/469 [==============================] - 1s 3ms/step - loss: 2.3012 - precision_1: 0.0000e+00 - recall_1: 0.0000e+00 - accuracy: 0.1124 - val_loss: 2.3007 - val_precision_1: 0.0000e+00 - val_recall_1: 0.0000e+00 - val_accuracy: 0.1135\n",
      "Epoch 3/10\n",
      "469/469 [==============================] - 1s 3ms/step - loss: 2.3010 - precision_1: 0.0000e+00 - recall_1: 0.0000e+00 - accuracy: 0.1124 - val_loss: 2.3004 - val_precision_1: 0.0000e+00 - val_recall_1: 0.0000e+00 - val_accuracy: 0.1135\n",
      "Epoch 4/10\n",
      "469/469 [==============================] - 2s 3ms/step - loss: 2.3006 - precision_1: 0.0000e+00 - recall_1: 0.0000e+00 - accuracy: 0.1124 - val_loss: 2.3000 - val_precision_1: 0.0000e+00 - val_recall_1: 0.0000e+00 - val_accuracy: 0.1135\n",
      "Epoch 5/10\n",
      "469/469 [==============================] - 1s 3ms/step - loss: 2.3001 - precision_1: 0.0000e+00 - recall_1: 0.0000e+00 - accuracy: 0.1124 - val_loss: 2.2994 - val_precision_1: 0.0000e+00 - val_recall_1: 0.0000e+00 - val_accuracy: 0.1135\n",
      "Epoch 6/10\n",
      "469/469 [==============================] - 1s 3ms/step - loss: 2.2991 - precision_1: 0.0000e+00 - recall_1: 0.0000e+00 - accuracy: 0.1124 - val_loss: 2.2983 - val_precision_1: 0.0000e+00 - val_recall_1: 0.0000e+00 - val_accuracy: 0.1135\n",
      "Epoch 7/10\n",
      "469/469 [==============================] - 1s 3ms/step - loss: 2.2975 - precision_1: 0.0000e+00 - recall_1: 0.0000e+00 - accuracy: 0.1138 - val_loss: 2.2961 - val_precision_1: 0.0000e+00 - val_recall_1: 0.0000e+00 - val_accuracy: 0.1135\n",
      "Epoch 8/10\n",
      "469/469 [==============================] - 1s 3ms/step - loss: 2.2950 - precision_1: 0.0000e+00 - recall_1: 0.0000e+00 - accuracy: 0.1132 - val_loss: 2.2927 - val_precision_1: 0.0000e+00 - val_recall_1: 0.0000e+00 - val_accuracy: 0.1135\n",
      "Epoch 9/10\n",
      "469/469 [==============================] - 1s 3ms/step - loss: 2.2912 - precision_1: 0.0000e+00 - recall_1: 0.0000e+00 - accuracy: 0.1228 - val_loss: 2.2879 - val_precision_1: 0.0000e+00 - val_recall_1: 0.0000e+00 - val_accuracy: 0.1135\n",
      "Epoch 10/10\n",
      "469/469 [==============================] - 1s 3ms/step - loss: 2.2858 - precision_1: 0.0000e+00 - recall_1: 0.0000e+00 - accuracy: 0.1362 - val_loss: 2.2816 - val_precision_1: 0.0000e+00 - val_recall_1: 0.0000e+00 - val_accuracy: 0.1995\n"
     ]
    },
    {
     "data": {
      "text/plain": [
       "<keras.callbacks.History at 0x2d7552a1220>"
      ]
     },
     "execution_count": 85,
     "metadata": {},
     "output_type": "execute_result"
    }
   ],
   "source": [
    "model.fit(x_train, y_train, epochs = 10, batch_size = 128, validation_data = (x_test, y_test)) # Epoch = 10 iken hatayı kontrol edelim."
   ]
  },
  {
   "attachments": {},
   "cell_type": "markdown",
   "metadata": {},
   "source": [
    "## 5) Model Başarısını Değerlendirme (Evaluation)"
   ]
  },
  {
   "cell_type": "code",
   "execution_count": 131,
   "metadata": {},
   "outputs": [
    {
     "name": "stdout",
     "output_type": "stream",
     "text": [
      "Epoch 1/10\n",
      "469/469 [==============================] - 1s 3ms/step - loss: 0.3287 - precision_1: 0.9320 - recall_1: 0.8825 - accuracy: 0.9067 - val_loss: 0.3208 - val_precision_1: 0.9308 - val_recall_1: 0.8856 - val_accuracy: 0.9095\n",
      "Epoch 2/10\n",
      "469/469 [==============================] - 1s 3ms/step - loss: 0.3279 - precision_1: 0.9329 - recall_1: 0.8833 - accuracy: 0.9076 - val_loss: 0.3188 - val_precision_1: 0.9321 - val_recall_1: 0.8890 - val_accuracy: 0.9102\n",
      "Epoch 3/10\n",
      "469/469 [==============================] - 1s 3ms/step - loss: 0.3283 - precision_1: 0.9318 - recall_1: 0.8830 - accuracy: 0.9073 - val_loss: 0.3223 - val_precision_1: 0.9321 - val_recall_1: 0.8866 - val_accuracy: 0.9080\n",
      "Epoch 4/10\n",
      "469/469 [==============================] - 1s 3ms/step - loss: 0.3277 - precision_1: 0.9329 - recall_1: 0.8832 - accuracy: 0.9076 - val_loss: 0.3227 - val_precision_1: 0.9333 - val_recall_1: 0.8878 - val_accuracy: 0.9101\n",
      "Epoch 5/10\n",
      "469/469 [==============================] - 1s 3ms/step - loss: 0.3274 - precision_1: 0.9322 - recall_1: 0.8825 - accuracy: 0.9070 - val_loss: 0.3204 - val_precision_1: 0.9317 - val_recall_1: 0.8868 - val_accuracy: 0.9093\n",
      "Epoch 6/10\n",
      "469/469 [==============================] - 1s 3ms/step - loss: 0.3277 - precision_1: 0.9329 - recall_1: 0.8839 - accuracy: 0.9077 - val_loss: 0.3206 - val_precision_1: 0.9308 - val_recall_1: 0.8880 - val_accuracy: 0.9086\n",
      "Epoch 7/10\n",
      "469/469 [==============================] - 1s 3ms/step - loss: 0.3261 - precision_1: 0.9324 - recall_1: 0.8830 - accuracy: 0.9072 - val_loss: 0.3245 - val_precision_1: 0.9309 - val_recall_1: 0.8854 - val_accuracy: 0.9091\n",
      "Epoch 8/10\n",
      "469/469 [==============================] - 1s 3ms/step - loss: 0.3263 - precision_1: 0.9328 - recall_1: 0.8833 - accuracy: 0.9073 - val_loss: 0.3204 - val_precision_1: 0.9319 - val_recall_1: 0.8882 - val_accuracy: 0.9100\n",
      "Epoch 9/10\n",
      "469/469 [==============================] - 1s 3ms/step - loss: 0.3260 - precision_1: 0.9334 - recall_1: 0.8837 - accuracy: 0.9079 - val_loss: 0.3212 - val_precision_1: 0.9310 - val_recall_1: 0.8872 - val_accuracy: 0.9092\n",
      "Epoch 10/10\n",
      "469/469 [==============================] - 1s 3ms/step - loss: 0.3260 - precision_1: 0.9319 - recall_1: 0.8835 - accuracy: 0.9078 - val_loss: 0.3221 - val_precision_1: 0.9338 - val_recall_1: 0.8885 - val_accuracy: 0.9094\n"
     ]
    }
   ],
   "source": [
    "history = model.fit(x_train, y_train, epochs = 10, batch_size = 128, validation_data = (x_test, y_test)) # Epoch = 10 iken hatayı kontrol edelim."
   ]
  },
  {
   "cell_type": "code",
   "execution_count": 132,
   "metadata": {},
   "outputs": [
    {
     "data": {
      "image/png": "[encoded data removed]",
      "text/plain": [
       "<Figure size 1440x360 with 2 Axes>"
      ]
     },
     "metadata": {
      "needs_background": "light"
     },
     "output_type": "display_data"
    }
   ],
   "source": [
    "####################################\n",
    "###  Accuracy ve Loss Grafikleri ###\n",
    "####################################\n",
    "\n",
    "#---------------- Grafik 1 Accuracy ----------------#\n",
    "\n",
    "plt.figure(figsize=(20,5))\n",
    "plt.subplot(1,2,1)\n",
    "plt.plot(history.history[\"accuracy\"], color = \"b\", label = \"Training Accuracy\")\n",
    "plt.plot(history.history[\"val_accuracy\"], color = \"r\", label = \"Validation Accuracy\")\n",
    "plt.legend(loc = \"lower right\")\n",
    "plt.xlabel(\"Epoch\", fontsize = 16)\n",
    "plt.ylabel(\"Accuracy\", fontsize = 16)\n",
    "plt.ylim([min(plt.ylim()),1])\n",
    "plt.title(\"Eğitim ve Test Başarım Grafiği\", fontsize = 16)\n",
    "\n",
    "\n",
    "#---------------- Grafik 2 Loss --------------------#\n",
    "\n",
    "plt.subplot(1,2,2)\n",
    "plt.plot(history.history[\"loss\"], color = \"b\", label = \"Training Loss\")\n",
    "plt.plot(history.history[\"val_loss\"], color = \"r\", label = \"Validation Loss\")\n",
    "plt.legend(loc = \"upper right\")\n",
    "plt.xlabel(\"Epoch\", fontsize = 16)\n",
    "plt.ylabel(\"Loss\", fontsize = 16)\n",
    "plt.ylim([0, max(plt.ylim())])\n",
    "plt.title(\"Eğitim ve Test Kayıp Grafiği\", fontsize = 16)\n",
    "plt.show()"
   ]
  },
  {
   "cell_type": "code",
   "execution_count": 133,
   "metadata": {},
   "outputs": [
    {
     "name": "stdout",
     "output_type": "stream",
     "text": [
      "\n",
      "Test Accuracy: 90.9%\n",
      "\n",
      "Test Loss: 32.2%\n",
      "\n",
      "Test Precision: 93.4%\n",
      "\n",
      "Test Recall: 88.8%\n"
     ]
    }
   ],
   "source": [
    "loss, precision, recall, acc = model.evaluate(x_test, y_test, verbose = False)\n",
    "print(\"\\nTest Accuracy: %.1f%%\" % (100.0*acc))\n",
    "print(\"\\nTest Loss: %.1f%%\" % (100.0*loss))\n",
    "print(\"\\nTest Precision: %.1f%%\" % (100.0*precision))\n",
    "print(\"\\nTest Recall: %.1f%%\" % (100.0*recall))"
   ]
  },
  {
   "attachments": {},
   "cell_type": "markdown",
   "metadata": {},
   "source": [
    "## Modelin Kaydedilmesi ve Tahmin İçin Kullanılması"
   ]
  },
  {
   "cell_type": "code",
   "execution_count": 134,
   "metadata": {},
   "outputs": [],
   "source": [
    "model.save(\"mnist_model.h5\")"
   ]
  },
  {
   "cell_type": "code",
   "execution_count": 144,
   "metadata": {},
   "outputs": [],
   "source": [
    "import random\n",
    "\n",
    "random = random.randint(0, x_test.shape[0])"
   ]
  },
  {
   "cell_type": "code",
   "execution_count": 145,
   "metadata": {},
   "outputs": [
    {
     "data": {
      "text/plain": [
       "7919"
      ]
     },
     "execution_count": 145,
     "metadata": {},
     "output_type": "execute_result"
    }
   ],
   "source": [
    "random"
   ]
  },
  {
   "cell_type": "code",
   "execution_count": 146,
   "metadata": {},
   "outputs": [],
   "source": [
    "test_image = x_test[random]"
   ]
  },
  {
   "cell_type": "code",
   "execution_count": 147,
   "metadata": {},
   "outputs": [
    {
     "data": {
      "text/plain": [
       "array([0., 0., 0., 0., 0., 0., 0., 0., 1., 0.], dtype=float32)"
      ]
     },
     "execution_count": 147,
     "metadata": {},
     "output_type": "execute_result"
    }
   ],
   "source": [
    "y_test[random]"
   ]
  },
  {
   "cell_type": "code",
   "execution_count": 148,
   "metadata": {},
   "outputs": [
    {
     "data": {
      "image/png": "[encoded data removed]",
      "text/plain": [
       "<Figure size 432x288 with 1 Axes>"
      ]
     },
     "metadata": {
      "needs_background": "light"
     },
     "output_type": "display_data"
    }
   ],
   "source": [
    "plt.imshow(test_image.reshape(28,28), cmap = \"gray\");"
   ]
  },
  {
   "cell_type": "code",
   "execution_count": 150,
   "metadata": {},
   "outputs": [],
   "source": [
    "test_data = x_test[random].reshape(1, 28, 28, 1)"
   ]
  },
  {
   "cell_type": "code",
   "execution_count": 151,
   "metadata": {},
   "outputs": [
    {
     "name": "stdout",
     "output_type": "stream",
     "text": [
      "1/1 [==============================] - 0s 82ms/step\n"
     ]
    }
   ],
   "source": [
    "probability = model.predict(test_data)"
   ]
  },
  {
   "cell_type": "code",
   "execution_count": 153,
   "metadata": {},
   "outputs": [
    {
     "data": {
      "text/plain": [
       "array([[3.63153405e-04, 9.25558030e-09, 4.64896846e-04, 5.00121787e-05,\n",
       "        1.43389207e-06, 1.04307476e-03, 5.06621575e-07, 3.76422037e-07,\n",
       "        9.97968853e-01, 1.07692824e-04]], dtype=float32)"
      ]
     },
     "execution_count": 153,
     "metadata": {},
     "output_type": "execute_result"
    }
   ],
   "source": [
    "probability"
   ]
  },
  {
   "cell_type": "code",
   "execution_count": 154,
   "metadata": {},
   "outputs": [],
   "source": [
    "predicted_classes = np.argmax(probability)"
   ]
  },
  {
   "cell_type": "code",
   "execution_count": 155,
   "metadata": {},
   "outputs": [
    {
     "data": {
      "text/plain": [
       "8"
      ]
     },
     "execution_count": 155,
     "metadata": {},
     "output_type": "execute_result"
    }
   ],
   "source": [
    "predicted_classes"
   ]
  },
  {
   "cell_type": "code",
   "execution_count": 159,
   "metadata": {},
   "outputs": [
    {
     "name": "stdout",
     "output_type": "stream",
     "text": [
      "Tahmin Edilen Sınıf: 8  \n",
      "\n",
      "Tahmin Edilen Sınıfın Olasılık Değeri: 0.997968852519989  \n",
      "\n",
      "Diğer Sınıfların Olasılık Değerleri: \n",
      "[[3.63153405e-04 9.25558030e-09 4.64896846e-04 5.00121787e-05\n",
      "  1.43389207e-06 1.04307476e-03 5.06621575e-07 3.76422037e-07\n",
      "  9.97968853e-01 1.07692824e-04]]\n"
     ]
    }
   ],
   "source": [
    "print(f\"Tahmin Edilen Sınıf: {predicted_classes}  \\n\")\n",
    "print(f\"Tahmin Edilen Sınıfın Olasılık Değeri: {(np.max(probability, axis=1))[0]}  \\n\")\n",
    "print(f\"Diğer Sınıfların Olasılık Değerleri: \\n{probability}\")"
   ]
  }
 ],
 "metadata": {
  "kernelspec": {
   "display_name": "Python 3",
   "language": "python",
   "name": "python3"
  },
  "language_info": {
   "codemirror_mode": {
    "name": "ipython",
    "version": 3
   },
   "file_extension": ".py",
   "mimetype": "text/x-python",
   "name": "python",
   "nbconvert_exporter": "python",
   "pygments_lexer": "ipython3",
   "version": "3.9.2"
  },
  "orig_nbformat": 4,
  "vscode": {
   "interpreter": {
    "hash": "cdfc03b9e8b1be78256861c432074ab725f06a38536a47f76a84eb781a3309dc"
   }
  }
 },
 "nbformat": 4,
 "nbformat_minor": 2
}
